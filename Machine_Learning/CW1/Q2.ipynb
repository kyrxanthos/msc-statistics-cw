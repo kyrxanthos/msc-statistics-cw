{
 "cells": [
  {
   "cell_type": "code",
   "execution_count": 1,
   "metadata": {},
   "outputs": [],
   "source": [
    "import pandas as pd\n",
    "import numpy as np\n",
    "import os\n",
    "import matplotlib.pyplot as plt\n",
    "import seaborn as sns\n",
    "from sklearn.metrics import mean_squared_error\n",
    "from sklearn.pipeline import make_pipeline\n",
    "from sklearn.model_selection import KFold\n",
    "from sklearn.model_selection import train_test_split\n",
    "from sklearn.preprocessing import StandardScaler\n",
    "from sklearn.metrics import confusion_matrix\n",
    "from sklearn.metrics import roc_curve, precision_recall_curve\n",
    "from sklearn.metrics import roc_auc_score\n",
    "from sklearn.discriminant_analysis import LinearDiscriminantAnalysis as LDA\n",
    "from sklearn.naive_bayes import GaussianNB\n",
    "from sklearn.neighbors import KNeighborsClassifier\n",
    "from sklearn.model_selection import GridSearchCV, KFold\n",
    "\n",
    "np.random.seed(222)"
   ]
  },
  {
   "cell_type": "code",
   "execution_count": 2,
   "metadata": {},
   "outputs": [],
   "source": [
    "plt.rcParams['figure.figsize'] = (12,5)\n",
    "plt.rcParams['figure.dpi'] = 80"
   ]
  },
  {
   "cell_type": "code",
   "execution_count": 3,
   "metadata": {},
   "outputs": [],
   "source": [
    "d = pd.read_csv(\"dataQ2.csv\")"
   ]
  },
  {
   "cell_type": "code",
   "execution_count": 4,
   "metadata": {},
   "outputs": [
    {
     "data": {
      "image/png": "[encoded data removed]",
      "text/plain": [
       "<Figure size 1600x800 with 1 Axes>"
      ]
     },
     "metadata": {
      "needs_background": "light"
     },
     "output_type": "display_data"
    }
   ],
   "source": [
    "df = d.groupby('V1').count()\n",
    "\n",
    "clrs = ['grey' if (x < 1980) else '#3282bd' for x in df.index ]\n",
    "\n",
    "plt.figure(figsize=(20,10))\n",
    "plt.xticks(rotation=90)\n",
    "# plot = sns.barplot(x=df.index, y = df.V3, color='#3282bd')\n",
    "plot = sns.barplot(x=df.index, y = df.V3, palette=clrs)\n",
    "plot.set_ylabel('Counts', fontsize=20, labelpad=20)\n",
    "plot.set_xlabel('Year', fontsize=20, labelpad=20)\n",
    "plt.savefig('Plots/song_year.pdf')\n",
    "plt.show()"
   ]
  },
  {
   "cell_type": "code",
   "execution_count": 5,
   "metadata": {},
   "outputs": [
    {
     "data": {
      "text/html": [
       "<div>\n",
       "<style scoped>\n",
       "    .dataframe tbody tr th:only-of-type {\n",
       "        vertical-align: middle;\n",
       "    }\n",
       "\n",
       "    .dataframe tbody tr th {\n",
       "        vertical-align: top;\n",
       "    }\n",
       "\n",
       "    .dataframe thead th {\n",
       "        text-align: right;\n",
       "    }\n",
       "</style>\n",
       "<table border=\"1\" class=\"dataframe\">\n",
       "  <thead>\n",
       "    <tr style=\"text-align: right;\">\n",
       "      <th></th>\n",
       "      <th>V1</th>\n",
       "      <th>V2</th>\n",
       "      <th>V3</th>\n",
       "      <th>V4</th>\n",
       "      <th>V5</th>\n",
       "      <th>V6</th>\n",
       "      <th>V7</th>\n",
       "      <th>V8</th>\n",
       "      <th>V9</th>\n",
       "      <th>V10</th>\n",
       "      <th>...</th>\n",
       "      <th>V82</th>\n",
       "      <th>V83</th>\n",
       "      <th>V84</th>\n",
       "      <th>V85</th>\n",
       "      <th>V86</th>\n",
       "      <th>V87</th>\n",
       "      <th>V88</th>\n",
       "      <th>V89</th>\n",
       "      <th>V90</th>\n",
       "      <th>V91</th>\n",
       "    </tr>\n",
       "  </thead>\n",
       "  <tbody>\n",
       "    <tr>\n",
       "      <th>0</th>\n",
       "      <td>0</td>\n",
       "      <td>35.52117</td>\n",
       "      <td>-173.08203</td>\n",
       "      <td>46.48577</td>\n",
       "      <td>-5.06276</td>\n",
       "      <td>-63.82789</td>\n",
       "      <td>24.02641</td>\n",
       "      <td>-41.02192</td>\n",
       "      <td>4.62923</td>\n",
       "      <td>-16.18052</td>\n",
       "      <td>...</td>\n",
       "      <td>59.13603</td>\n",
       "      <td>-40.20129</td>\n",
       "      <td>-49.39461</td>\n",
       "      <td>24.85517</td>\n",
       "      <td>-5.71430</td>\n",
       "      <td>-211.76905</td>\n",
       "      <td>29.05489</td>\n",
       "      <td>-15.60849</td>\n",
       "      <td>-53.62467</td>\n",
       "      <td>5.16082</td>\n",
       "    </tr>\n",
       "    <tr>\n",
       "      <th>1</th>\n",
       "      <td>0</td>\n",
       "      <td>20.82134</td>\n",
       "      <td>-105.06227</td>\n",
       "      <td>-43.18894</td>\n",
       "      <td>-48.94628</td>\n",
       "      <td>9.38217</td>\n",
       "      <td>18.50846</td>\n",
       "      <td>-47.86844</td>\n",
       "      <td>16.39423</td>\n",
       "      <td>-40.76835</td>\n",
       "      <td>...</td>\n",
       "      <td>70.58999</td>\n",
       "      <td>-199.31135</td>\n",
       "      <td>-43.84401</td>\n",
       "      <td>405.88548</td>\n",
       "      <td>-12.19678</td>\n",
       "      <td>-0.66015</td>\n",
       "      <td>676.59875</td>\n",
       "      <td>-26.87764</td>\n",
       "      <td>-62.47564</td>\n",
       "      <td>45.08777</td>\n",
       "    </tr>\n",
       "    <tr>\n",
       "      <th>2</th>\n",
       "      <td>0</td>\n",
       "      <td>28.23865</td>\n",
       "      <td>-210.09303</td>\n",
       "      <td>17.52676</td>\n",
       "      <td>2.19025</td>\n",
       "      <td>32.08925</td>\n",
       "      <td>0.44376</td>\n",
       "      <td>11.65822</td>\n",
       "      <td>24.40600</td>\n",
       "      <td>-49.33061</td>\n",
       "      <td>...</td>\n",
       "      <td>32.66179</td>\n",
       "      <td>135.07781</td>\n",
       "      <td>-99.65834</td>\n",
       "      <td>181.84890</td>\n",
       "      <td>-4.89541</td>\n",
       "      <td>-252.83162</td>\n",
       "      <td>70.21382</td>\n",
       "      <td>-2.21501</td>\n",
       "      <td>23.60526</td>\n",
       "      <td>4.99606</td>\n",
       "    </tr>\n",
       "    <tr>\n",
       "      <th>3</th>\n",
       "      <td>0</td>\n",
       "      <td>31.96273</td>\n",
       "      <td>-101.69543</td>\n",
       "      <td>41.96745</td>\n",
       "      <td>-4.76271</td>\n",
       "      <td>3.56367</td>\n",
       "      <td>36.30043</td>\n",
       "      <td>7.73083</td>\n",
       "      <td>17.25277</td>\n",
       "      <td>-2.42944</td>\n",
       "      <td>...</td>\n",
       "      <td>40.24099</td>\n",
       "      <td>-247.91642</td>\n",
       "      <td>454.80976</td>\n",
       "      <td>611.16708</td>\n",
       "      <td>-48.77300</td>\n",
       "      <td>56.66697</td>\n",
       "      <td>150.06551</td>\n",
       "      <td>14.10275</td>\n",
       "      <td>81.94839</td>\n",
       "      <td>30.90205</td>\n",
       "    </tr>\n",
       "    <tr>\n",
       "      <th>4</th>\n",
       "      <td>0</td>\n",
       "      <td>35.55615</td>\n",
       "      <td>-56.58205</td>\n",
       "      <td>62.04075</td>\n",
       "      <td>-7.53863</td>\n",
       "      <td>-84.55047</td>\n",
       "      <td>36.35813</td>\n",
       "      <td>-57.28277</td>\n",
       "      <td>-1.46895</td>\n",
       "      <td>21.04464</td>\n",
       "      <td>...</td>\n",
       "      <td>24.98972</td>\n",
       "      <td>-119.42711</td>\n",
       "      <td>-184.94459</td>\n",
       "      <td>234.78532</td>\n",
       "      <td>7.44422</td>\n",
       "      <td>-168.61733</td>\n",
       "      <td>244.36084</td>\n",
       "      <td>-25.50052</td>\n",
       "      <td>81.87296</td>\n",
       "      <td>31.26154</td>\n",
       "    </tr>\n",
       "    <tr>\n",
       "      <th>...</th>\n",
       "      <td>...</td>\n",
       "      <td>...</td>\n",
       "      <td>...</td>\n",
       "      <td>...</td>\n",
       "      <td>...</td>\n",
       "      <td>...</td>\n",
       "      <td>...</td>\n",
       "      <td>...</td>\n",
       "      <td>...</td>\n",
       "      <td>...</td>\n",
       "      <td>...</td>\n",
       "      <td>...</td>\n",
       "      <td>...</td>\n",
       "      <td>...</td>\n",
       "      <td>...</td>\n",
       "      <td>...</td>\n",
       "      <td>...</td>\n",
       "      <td>...</td>\n",
       "      <td>...</td>\n",
       "      <td>...</td>\n",
       "      <td>...</td>\n",
       "    </tr>\n",
       "    <tr>\n",
       "      <th>12518</th>\n",
       "      <td>1</td>\n",
       "      <td>41.85027</td>\n",
       "      <td>-72.91280</td>\n",
       "      <td>-0.91743</td>\n",
       "      <td>-0.56910</td>\n",
       "      <td>20.32131</td>\n",
       "      <td>6.28893</td>\n",
       "      <td>-10.35466</td>\n",
       "      <td>-6.58849</td>\n",
       "      <td>5.83319</td>\n",
       "      <td>...</td>\n",
       "      <td>17.91337</td>\n",
       "      <td>46.82747</td>\n",
       "      <td>310.92577</td>\n",
       "      <td>29.96655</td>\n",
       "      <td>0.00205</td>\n",
       "      <td>-14.53249</td>\n",
       "      <td>132.69521</td>\n",
       "      <td>7.22473</td>\n",
       "      <td>22.57903</td>\n",
       "      <td>-6.28559</td>\n",
       "    </tr>\n",
       "    <tr>\n",
       "      <th>12519</th>\n",
       "      <td>1</td>\n",
       "      <td>45.67364</td>\n",
       "      <td>38.06694</td>\n",
       "      <td>-7.68471</td>\n",
       "      <td>37.00493</td>\n",
       "      <td>0.19723</td>\n",
       "      <td>6.89751</td>\n",
       "      <td>-2.12232</td>\n",
       "      <td>13.43183</td>\n",
       "      <td>3.98728</td>\n",
       "      <td>...</td>\n",
       "      <td>-6.74997</td>\n",
       "      <td>-523.30403</td>\n",
       "      <td>183.75043</td>\n",
       "      <td>197.58643</td>\n",
       "      <td>-2.64476</td>\n",
       "      <td>-276.57394</td>\n",
       "      <td>221.62571</td>\n",
       "      <td>9.30142</td>\n",
       "      <td>121.36623</td>\n",
       "      <td>12.49019</td>\n",
       "    </tr>\n",
       "    <tr>\n",
       "      <th>12520</th>\n",
       "      <td>1</td>\n",
       "      <td>40.60182</td>\n",
       "      <td>-16.36778</td>\n",
       "      <td>-17.92755</td>\n",
       "      <td>27.24004</td>\n",
       "      <td>-46.59635</td>\n",
       "      <td>21.70873</td>\n",
       "      <td>-2.80822</td>\n",
       "      <td>6.96902</td>\n",
       "      <td>10.33685</td>\n",
       "      <td>...</td>\n",
       "      <td>25.02185</td>\n",
       "      <td>66.86383</td>\n",
       "      <td>132.74621</td>\n",
       "      <td>125.60392</td>\n",
       "      <td>-9.38491</td>\n",
       "      <td>74.60227</td>\n",
       "      <td>-70.86237</td>\n",
       "      <td>31.16433</td>\n",
       "      <td>21.14029</td>\n",
       "      <td>14.56326</td>\n",
       "    </tr>\n",
       "    <tr>\n",
       "      <th>12521</th>\n",
       "      <td>1</td>\n",
       "      <td>43.72307</td>\n",
       "      <td>88.56071</td>\n",
       "      <td>-31.66962</td>\n",
       "      <td>75.56138</td>\n",
       "      <td>-5.13998</td>\n",
       "      <td>10.47427</td>\n",
       "      <td>2.53986</td>\n",
       "      <td>4.77941</td>\n",
       "      <td>-2.54523</td>\n",
       "      <td>...</td>\n",
       "      <td>-21.19333</td>\n",
       "      <td>-1141.21410</td>\n",
       "      <td>446.91688</td>\n",
       "      <td>376.23336</td>\n",
       "      <td>52.55827</td>\n",
       "      <td>182.18457</td>\n",
       "      <td>-50.52141</td>\n",
       "      <td>15.96011</td>\n",
       "      <td>-161.60595</td>\n",
       "      <td>-5.23338</td>\n",
       "    </tr>\n",
       "    <tr>\n",
       "      <th>12522</th>\n",
       "      <td>1</td>\n",
       "      <td>51.07640</td>\n",
       "      <td>8.05611</td>\n",
       "      <td>26.78599</td>\n",
       "      <td>-6.01796</td>\n",
       "      <td>-8.34082</td>\n",
       "      <td>-21.83206</td>\n",
       "      <td>4.94321</td>\n",
       "      <td>-3.64701</td>\n",
       "      <td>12.60512</td>\n",
       "      <td>...</td>\n",
       "      <td>-38.10035</td>\n",
       "      <td>-29.98293</td>\n",
       "      <td>53.27048</td>\n",
       "      <td>30.04934</td>\n",
       "      <td>-0.17567</td>\n",
       "      <td>-49.74464</td>\n",
       "      <td>26.76668</td>\n",
       "      <td>-4.19700</td>\n",
       "      <td>-3.00979</td>\n",
       "      <td>2.28411</td>\n",
       "    </tr>\n",
       "  </tbody>\n",
       "</table>\n",
       "<p>12523 rows × 91 columns</p>\n",
       "</div>"
      ],
      "text/plain": [
       "       V1        V2         V3        V4        V5        V6        V7  \\\n",
       "0       0  35.52117 -173.08203  46.48577  -5.06276 -63.82789  24.02641   \n",
       "1       0  20.82134 -105.06227 -43.18894 -48.94628   9.38217  18.50846   \n",
       "2       0  28.23865 -210.09303  17.52676   2.19025  32.08925   0.44376   \n",
       "3       0  31.96273 -101.69543  41.96745  -4.76271   3.56367  36.30043   \n",
       "4       0  35.55615  -56.58205  62.04075  -7.53863 -84.55047  36.35813   \n",
       "...    ..       ...        ...       ...       ...       ...       ...   \n",
       "12518   1  41.85027  -72.91280  -0.91743  -0.56910  20.32131   6.28893   \n",
       "12519   1  45.67364   38.06694  -7.68471  37.00493   0.19723   6.89751   \n",
       "12520   1  40.60182  -16.36778 -17.92755  27.24004 -46.59635  21.70873   \n",
       "12521   1  43.72307   88.56071 -31.66962  75.56138  -5.13998  10.47427   \n",
       "12522   1  51.07640    8.05611  26.78599  -6.01796  -8.34082 -21.83206   \n",
       "\n",
       "             V8        V9       V10  ...       V82         V83        V84  \\\n",
       "0     -41.02192   4.62923 -16.18052  ...  59.13603   -40.20129  -49.39461   \n",
       "1     -47.86844  16.39423 -40.76835  ...  70.58999  -199.31135  -43.84401   \n",
       "2      11.65822  24.40600 -49.33061  ...  32.66179   135.07781  -99.65834   \n",
       "3       7.73083  17.25277  -2.42944  ...  40.24099  -247.91642  454.80976   \n",
       "4     -57.28277  -1.46895  21.04464  ...  24.98972  -119.42711 -184.94459   \n",
       "...         ...       ...       ...  ...       ...         ...        ...   \n",
       "12518 -10.35466  -6.58849   5.83319  ...  17.91337    46.82747  310.92577   \n",
       "12519  -2.12232  13.43183   3.98728  ...  -6.74997  -523.30403  183.75043   \n",
       "12520  -2.80822   6.96902  10.33685  ...  25.02185    66.86383  132.74621   \n",
       "12521   2.53986   4.77941  -2.54523  ... -21.19333 -1141.21410  446.91688   \n",
       "12522   4.94321  -3.64701  12.60512  ... -38.10035   -29.98293   53.27048   \n",
       "\n",
       "             V85       V86        V87        V88       V89        V90  \\\n",
       "0       24.85517  -5.71430 -211.76905   29.05489 -15.60849  -53.62467   \n",
       "1      405.88548 -12.19678   -0.66015  676.59875 -26.87764  -62.47564   \n",
       "2      181.84890  -4.89541 -252.83162   70.21382  -2.21501   23.60526   \n",
       "3      611.16708 -48.77300   56.66697  150.06551  14.10275   81.94839   \n",
       "4      234.78532   7.44422 -168.61733  244.36084 -25.50052   81.87296   \n",
       "...          ...       ...        ...        ...       ...        ...   \n",
       "12518   29.96655   0.00205  -14.53249  132.69521   7.22473   22.57903   \n",
       "12519  197.58643  -2.64476 -276.57394  221.62571   9.30142  121.36623   \n",
       "12520  125.60392  -9.38491   74.60227  -70.86237  31.16433   21.14029   \n",
       "12521  376.23336  52.55827  182.18457  -50.52141  15.96011 -161.60595   \n",
       "12522   30.04934  -0.17567  -49.74464   26.76668  -4.19700   -3.00979   \n",
       "\n",
       "            V91  \n",
       "0       5.16082  \n",
       "1      45.08777  \n",
       "2       4.99606  \n",
       "3      30.90205  \n",
       "4      31.26154  \n",
       "...         ...  \n",
       "12518  -6.28559  \n",
       "12519  12.49019  \n",
       "12520  14.56326  \n",
       "12521  -5.23338  \n",
       "12522   2.28411  \n",
       "\n",
       "[12523 rows x 91 columns]"
      ]
     },
     "execution_count": 5,
     "metadata": {},
     "output_type": "execute_result"
    }
   ],
   "source": [
    "d['V1'] = np.where(d['V1'] >= 1980, 1,0)\n",
    "d"
   ]
  },
  {
   "cell_type": "markdown",
   "metadata": {},
   "source": [
    "### LDA"
   ]
  },
  {
   "cell_type": "code",
   "execution_count": 6,
   "metadata": {},
   "outputs": [],
   "source": [
    "y = d['V1']\n",
    "X = d.loc[:,d.columns != 'V1']\n",
    "\n"
   ]
  },
  {
   "cell_type": "code",
   "execution_count": 7,
   "metadata": {},
   "outputs": [],
   "source": [
    "TEST_SIZE = 0.3 \n",
    "\n",
    "# train/test split\n",
    "X_train, X_test, y_train, y_test = train_test_split(X, y, test_size=TEST_SIZE)"
   ]
  },
  {
   "cell_type": "code",
   "execution_count": 8,
   "metadata": {},
   "outputs": [],
   "source": [
    "sc = StandardScaler()\n",
    "X_train = sc.fit_transform(X_train)\n",
    "X_test = sc.transform(X_test)"
   ]
  },
  {
   "cell_type": "code",
   "execution_count": 9,
   "metadata": {},
   "outputs": [],
   "source": [
    "lda = LDA(solver='svd', tol=1.e-4)\n",
    "song_lda = lda.fit(X=X_train, y=y_train)"
   ]
  },
  {
   "cell_type": "code",
   "execution_count": 10,
   "metadata": {},
   "outputs": [
    {
     "name": "stdout",
     "output_type": "stream",
     "text": [
      "Prior probabilities of groups: \n",
      " [0.50467716 0.49532284] \n",
      "\n"
     ]
    }
   ],
   "source": [
    "print(f\"Prior probabilities of groups: \\n {song_lda.priors_} \\n\")"
   ]
  },
  {
   "cell_type": "code",
   "execution_count": 11,
   "metadata": {},
   "outputs": [],
   "source": [
    "lda_train = song_lda.predict(X_train)\n",
    "lda_test = song_lda.predict(X_test)"
   ]
  },
  {
   "cell_type": "code",
   "execution_count": 12,
   "metadata": {},
   "outputs": [
    {
     "data": {
      "text/html": [
       "<div>\n",
       "<style scoped>\n",
       "    .dataframe tbody tr th:only-of-type {\n",
       "        vertical-align: middle;\n",
       "    }\n",
       "\n",
       "    .dataframe tbody tr th {\n",
       "        vertical-align: top;\n",
       "    }\n",
       "\n",
       "    .dataframe thead th {\n",
       "        text-align: right;\n",
       "    }\n",
       "</style>\n",
       "<table border=\"1\" class=\"dataframe\">\n",
       "  <thead>\n",
       "    <tr style=\"text-align: right;\">\n",
       "      <th></th>\n",
       "      <th>FALSE</th>\n",
       "      <th>TRUE</th>\n",
       "    </tr>\n",
       "  </thead>\n",
       "  <tbody>\n",
       "    <tr>\n",
       "      <th>FALSE</th>\n",
       "      <td>3405</td>\n",
       "      <td>1019</td>\n",
       "    </tr>\n",
       "    <tr>\n",
       "      <th>TRUE</th>\n",
       "      <td>1024</td>\n",
       "      <td>3318</td>\n",
       "    </tr>\n",
       "  </tbody>\n",
       "</table>\n",
       "</div>"
      ],
      "text/plain": [
       "       FALSE  TRUE\n",
       "FALSE   3405  1019\n",
       "TRUE    1024  3318"
      ]
     },
     "execution_count": 12,
     "metadata": {},
     "output_type": "execute_result"
    }
   ],
   "source": [
    "cf_train = confusion_matrix(y_train, lda_train)\n",
    "pd.DataFrame(cf_train, columns=[\"FALSE\", \"TRUE\"], index=[\"FALSE\", \"TRUE\"])"
   ]
  },
  {
   "cell_type": "code",
   "execution_count": 13,
   "metadata": {},
   "outputs": [
    {
     "data": {
      "text/html": [
       "<div>\n",
       "<style scoped>\n",
       "    .dataframe tbody tr th:only-of-type {\n",
       "        vertical-align: middle;\n",
       "    }\n",
       "\n",
       "    .dataframe tbody tr th {\n",
       "        vertical-align: top;\n",
       "    }\n",
       "\n",
       "    .dataframe thead th {\n",
       "        text-align: right;\n",
       "    }\n",
       "</style>\n",
       "<table border=\"1\" class=\"dataframe\">\n",
       "  <thead>\n",
       "    <tr style=\"text-align: right;\">\n",
       "      <th></th>\n",
       "      <th>FALSE</th>\n",
       "      <th>TRUE</th>\n",
       "    </tr>\n",
       "  </thead>\n",
       "  <tbody>\n",
       "    <tr>\n",
       "      <th>FALSE</th>\n",
       "      <td>1470</td>\n",
       "      <td>428</td>\n",
       "    </tr>\n",
       "    <tr>\n",
       "      <th>TRUE</th>\n",
       "      <td>475</td>\n",
       "      <td>1384</td>\n",
       "    </tr>\n",
       "  </tbody>\n",
       "</table>\n",
       "</div>"
      ],
      "text/plain": [
       "       FALSE  TRUE\n",
       "FALSE   1470   428\n",
       "TRUE     475  1384"
      ]
     },
     "execution_count": 13,
     "metadata": {},
     "output_type": "execute_result"
    }
   ],
   "source": [
    "cf_test = confusion_matrix(y_test, lda_test)\n",
    "pd.DataFrame(cf_test, columns=[\"FALSE\", \"TRUE\"], index=[\"FALSE\", \"TRUE\"])"
   ]
  },
  {
   "cell_type": "code",
   "execution_count": 14,
   "metadata": {},
   "outputs": [
    {
     "name": "stdout",
     "output_type": "stream",
     "text": [
      "AUC of Train: 0.8457471098976064 \n",
      "AUC of Test: 0.833227241268094\n"
     ]
    },
    {
     "data": {
      "text/plain": [
       "<matplotlib.legend.Legend at 0x7fc018560410>"
      ]
     },
     "execution_count": 14,
     "metadata": {},
     "output_type": "execute_result"
    },
    {
     "data": {
      "image/png": "[encoded data removed]",
      "text/plain": [
       "<Figure size 960x400 with 1 Axes>"
      ]
     },
     "metadata": {
      "needs_background": "light"
     },
     "output_type": "display_data"
    }
   ],
   "source": [
    "from sklearn.metrics import roc_curve\n",
    "fpr_1,tpr_1,thresh=roc_curve(y_test,lda.predict_proba(X_test)[:,-1])\n",
    "auc_score=roc_auc_score(y_test,lda.predict_proba(X_test)[:,-1])\n",
    "\n",
    "fpr_12,tpr_12,thresh2=roc_curve(y_train,lda.predict_proba(X_train)[:,-1])\n",
    "auc_score2=roc_auc_score(y_train,lda.predict_proba(X_train)[:,-1])\n",
    "\n",
    "print(f'AUC of Train: {auc_score2} \\nAUC of Test: {auc_score}')\n",
    "\n",
    "plt.plot(fpr_1,tpr_1, label='Test')\n",
    "plt.plot(fpr_12, tpr_12, label='Train')\n",
    "plt.xlabel('fpr1')\n",
    "plt.ylabel('TPR')\n",
    "plt.legend()"
   ]
  },
  {
   "cell_type": "markdown",
   "metadata": {},
   "source": [
    "## KNN"
   ]
  },
  {
   "cell_type": "code",
   "execution_count": 15,
   "metadata": {},
   "outputs": [],
   "source": [
    "d2 = d.copy()\n",
    "y = d2['V1']\n",
    "X = d2.loc[:,d.columns != 'V1']\n",
    "\n",
    "TEST_SIZE = 0.3\n",
    "\n",
    "# train/test split\n",
    "X_train, X_test, y_train, y_test = train_test_split(X, y, test_size=TEST_SIZE, random_state=42)\n",
    "\n",
    "sc = StandardScaler()\n",
    "X_train = sc.fit_transform(X_train)\n",
    "X_test = sc.transform(X_test)\n",
    "\n",
    "\n",
    "# X = sc.fit_transform(X)"
   ]
  },
  {
   "cell_type": "code",
   "execution_count": 16,
   "metadata": {},
   "outputs": [
    {
     "data": {
      "text/plain": [
       "dict_keys(['algorithm', 'leaf_size', 'metric', 'metric_params', 'n_jobs', 'n_neighbors', 'p', 'weights'])"
      ]
     },
     "execution_count": 16,
     "metadata": {},
     "output_type": "execute_result"
    }
   ],
   "source": [
    "KNeighborsClassifier().get_params().keys()"
   ]
  },
  {
   "cell_type": "code",
   "execution_count": 17,
   "metadata": {},
   "outputs": [],
   "source": [
    "#trial:\n",
    "ks = np.arange(5, 35)\n",
    "ks = np.array([5,10,15,20,25,30,35,40,45,50])\n",
    "gs = GridSearchCV(\n",
    "    make_pipeline(\n",
    "        StandardScaler(),\n",
    "        KNeighborsClassifier()\n",
    "        ),\n",
    "        param_grid={'kneighborsclassifier__n_neighbors': ks}, \n",
    "        cv=KFold(5, shuffle=True, random_state=1234)\n",
    ").fit(X, y)\n"
   ]
  },
  {
   "cell_type": "code",
   "execution_count": 18,
   "metadata": {},
   "outputs": [
    {
     "name": "stdout",
     "output_type": "stream",
     "text": [
      "{'kneighborsclassifier__n_neighbors': 50}\n"
     ]
    },
    {
     "data": {
      "image/png": "[encoded data removed]",
      "text/plain": [
       "<Figure size 960x480 with 1 Axes>"
      ]
     },
     "metadata": {
      "needs_background": "light"
     },
     "output_type": "display_data"
    }
   ],
   "source": [
    "print(gs.best_params_)\n",
    "test_score = gs.cv_results_['mean_test_score']\n",
    "\n",
    "plt.figure(figsize=(12, 6))\n",
    "plt.plot(ks, test_score, color='#3282bd', linestyle='dashed', marker='o',\n",
    "         markerfacecolor='black', markersize=10)\n",
    "plt.xlabel('k Value')\n",
    "plt.ylabel('Mean Accuracy')\n",
    "plt.savefig('Plots/errorknn.pdf')\n",
    "plt.show()"
   ]
  },
  {
   "cell_type": "code",
   "execution_count": 19,
   "metadata": {},
   "outputs": [],
   "source": [
    "classifier = KNeighborsClassifier(n_neighbors=25)\n",
    "classifier.fit(X_train, y_train)\n",
    "\n",
    "y_pred = classifier.predict(X_test)\n"
   ]
  },
  {
   "cell_type": "code",
   "execution_count": 20,
   "metadata": {},
   "outputs": [
    {
     "data": {
      "text/html": [
       "<div>\n",
       "<style scoped>\n",
       "    .dataframe tbody tr th:only-of-type {\n",
       "        vertical-align: middle;\n",
       "    }\n",
       "\n",
       "    .dataframe tbody tr th {\n",
       "        vertical-align: top;\n",
       "    }\n",
       "\n",
       "    .dataframe thead th {\n",
       "        text-align: right;\n",
       "    }\n",
       "</style>\n",
       "<table border=\"1\" class=\"dataframe\">\n",
       "  <thead>\n",
       "    <tr style=\"text-align: right;\">\n",
       "      <th></th>\n",
       "      <th>FALSE</th>\n",
       "      <th>TRUE</th>\n",
       "    </tr>\n",
       "  </thead>\n",
       "  <tbody>\n",
       "    <tr>\n",
       "      <th>FALSE</th>\n",
       "      <td>1478</td>\n",
       "      <td>459</td>\n",
       "    </tr>\n",
       "    <tr>\n",
       "      <th>TRUE</th>\n",
       "      <td>479</td>\n",
       "      <td>1341</td>\n",
       "    </tr>\n",
       "  </tbody>\n",
       "</table>\n",
       "</div>"
      ],
      "text/plain": [
       "       FALSE  TRUE\n",
       "FALSE   1478   459\n",
       "TRUE     479  1341"
      ]
     },
     "execution_count": 20,
     "metadata": {},
     "output_type": "execute_result"
    }
   ],
   "source": [
    "cf_test = confusion_matrix(y_test, y_pred)\n",
    "pd.DataFrame(cf_test, columns=[\"FALSE\", \"TRUE\"], index=[\"FALSE\", \"TRUE\"])"
   ]
  },
  {
   "cell_type": "code",
   "execution_count": 21,
   "metadata": {},
   "outputs": [
    {
     "data": {
      "text/plain": [
       "0.24966728772957147"
      ]
     },
     "execution_count": 21,
     "metadata": {},
     "output_type": "execute_result"
    }
   ],
   "source": [
    "(479+459)/(1478+459+479+1341)"
   ]
  },
  {
   "cell_type": "code",
   "execution_count": 22,
   "metadata": {},
   "outputs": [
    {
     "name": "stdout",
     "output_type": "stream",
     "text": [
      "AUC of Train: 0.8594395254515912 \n",
      "AUC of Test: 0.8246343615083934\n"
     ]
    },
    {
     "data": {
      "text/plain": [
       "<matplotlib.legend.Legend at 0x7fc01d6de950>"
      ]
     },
     "execution_count": 22,
     "metadata": {},
     "output_type": "execute_result"
    },
    {
     "data": {
      "image/png": "[encoded data removed]",
      "text/plain": [
       "<Figure size 960x400 with 1 Axes>"
      ]
     },
     "metadata": {
      "needs_background": "light"
     },
     "output_type": "display_data"
    }
   ],
   "source": [
    "fpr_2,tpr_2,thresh=roc_curve(y_test,classifier.predict_proba(X_test)[:,-1])\n",
    "auc_score=roc_auc_score(y_test,classifier.predict_proba(X_test)[:,-1])\n",
    "\n",
    "fpr_22,tpr_22,thresh2=roc_curve(y_train,classifier.predict_proba(X_train)[:,-1])\n",
    "auc_score2=roc_auc_score(y_train,classifier.predict_proba(X_train)[:,-1])\n",
    "\n",
    "print(f'AUC of Train: {auc_score2} \\nAUC of Test: {auc_score}')\n",
    "\n",
    "plt.plot(fpr_2,tpr_2, label='Test')\n",
    "plt.plot(fpr_22, tpr_22, label='Train')\n",
    "plt.legend()"
   ]
  },
  {
   "cell_type": "markdown",
   "metadata": {},
   "source": [
    "## Naive Bayes"
   ]
  },
  {
   "cell_type": "code",
   "execution_count": 23,
   "metadata": {},
   "outputs": [],
   "source": [
    "d3 = d.copy()\n",
    "\n",
    "y = d3['V1']\n",
    "X = d3.loc[:,d3.columns != 'V1']\n",
    "\n",
    "TEST_SIZE = 0.3 # smaller training set to reduce computational cost\n",
    "\n",
    "# train/test split\n",
    "X_train, X_test, y_train, y_test = train_test_split(X, y, test_size=TEST_SIZE)\n",
    "\n",
    "sc = StandardScaler()\n",
    "X_train = sc.fit_transform(X_train)\n",
    "X_test = sc.transform(X_test)"
   ]
  },
  {
   "cell_type": "code",
   "execution_count": 24,
   "metadata": {},
   "outputs": [],
   "source": [
    "from sklearn.naive_bayes import *\n",
    "\n",
    "NB = GaussianNB()\n",
    "# NB = MultinomialNB()\n",
    "# NB = ComplementNB()\n",
    "\n",
    "nb_fit = NB.fit(X_train, y_train)\n",
    "\n",
    "y_pred = nb_fit.predict(X_test)"
   ]
  },
  {
   "cell_type": "code",
   "execution_count": 25,
   "metadata": {},
   "outputs": [
    {
     "name": "stdout",
     "output_type": "stream",
     "text": [
      "Number of mislabeled points out of a total 3757 points : 1140\n"
     ]
    }
   ],
   "source": [
    "print(\"Number of mislabeled points out of a total %d points : %d\"% (X_test.shape[0], (y_test != y_pred).sum()))"
   ]
  },
  {
   "cell_type": "code",
   "execution_count": 26,
   "metadata": {},
   "outputs": [
    {
     "data": {
      "text/html": [
       "<div>\n",
       "<style scoped>\n",
       "    .dataframe tbody tr th:only-of-type {\n",
       "        vertical-align: middle;\n",
       "    }\n",
       "\n",
       "    .dataframe tbody tr th {\n",
       "        vertical-align: top;\n",
       "    }\n",
       "\n",
       "    .dataframe thead th {\n",
       "        text-align: right;\n",
       "    }\n",
       "</style>\n",
       "<table border=\"1\" class=\"dataframe\">\n",
       "  <thead>\n",
       "    <tr style=\"text-align: right;\">\n",
       "      <th></th>\n",
       "      <th>FALSE</th>\n",
       "      <th>TRUE</th>\n",
       "    </tr>\n",
       "  </thead>\n",
       "  <tbody>\n",
       "    <tr>\n",
       "      <th>FALSE</th>\n",
       "      <td>1069</td>\n",
       "      <td>785</td>\n",
       "    </tr>\n",
       "    <tr>\n",
       "      <th>TRUE</th>\n",
       "      <td>355</td>\n",
       "      <td>1548</td>\n",
       "    </tr>\n",
       "  </tbody>\n",
       "</table>\n",
       "</div>"
      ],
      "text/plain": [
       "       FALSE  TRUE\n",
       "FALSE   1069   785\n",
       "TRUE     355  1548"
      ]
     },
     "execution_count": 26,
     "metadata": {},
     "output_type": "execute_result"
    }
   ],
   "source": [
    "cf_test = confusion_matrix(y_test, y_pred)\n",
    "pd.DataFrame(cf_test, columns=[\"FALSE\", \"TRUE\"], index=[\"FALSE\", \"TRUE\"])"
   ]
  },
  {
   "cell_type": "code",
   "execution_count": 27,
   "metadata": {},
   "outputs": [
    {
     "name": "stdout",
     "output_type": "stream",
     "text": [
      "AUC of Train: 0.7759866657390562 \n",
      "AUC of Test: 0.7924284655863308\n"
     ]
    },
    {
     "data": {
      "text/plain": [
       "<matplotlib.legend.Legend at 0x7fbf4407f9d0>"
      ]
     },
     "execution_count": 27,
     "metadata": {},
     "output_type": "execute_result"
    },
    {
     "data": {
      "image/png": "[encoded data removed]",
      "text/plain": [
       "<Figure size 960x400 with 1 Axes>"
      ]
     },
     "metadata": {
      "needs_background": "light"
     },
     "output_type": "display_data"
    }
   ],
   "source": [
    "fpr_3,tpr_3,thresh=roc_curve(y_test,NB.predict_proba(X_test)[:,-1])\n",
    "auc_score=roc_auc_score(y_test,NB.predict_proba(X_test)[:,-1])\n",
    "\n",
    "fpr_32,tpr_32,thresh2=roc_curve(y_train,NB.predict_proba(X_train)[:,-1])\n",
    "auc_score2=roc_auc_score(y_train,NB.predict_proba(X_train)[:,-1])\n",
    "\n",
    "print(f'AUC of Train: {auc_score2} \\nAUC of Test: {auc_score}')\n",
    "\n",
    "plt.plot(fpr_3,tpr_3, label='Test')\n",
    "plt.plot(fpr_32, tpr_32, label='Train')\n",
    "plt.legend()"
   ]
  },
  {
   "cell_type": "code",
   "execution_count": 28,
   "metadata": {},
   "outputs": [
    {
     "data": {
      "text/plain": [
       "0.6965664093691776"
      ]
     },
     "execution_count": 28,
     "metadata": {},
     "output_type": "execute_result"
    }
   ],
   "source": [
    "nb_fit.score(X_test, y_test)"
   ]
  },
  {
   "cell_type": "code",
   "execution_count": 29,
   "metadata": {},
   "outputs": [
    {
     "data": {
      "image/png": "[encoded data removed]",
      "text/plain": [
       "<Figure size 960x400 with 1 Axes>"
      ]
     },
     "metadata": {
      "needs_background": "light"
     },
     "output_type": "display_data"
    }
   ],
   "source": [
    "t = np.linspace(0,1,50)\n",
    "plt.plot(fpr_1,tpr_1, label='LDA')\n",
    "# plt.plot(fpr_12, tpr_12, label='Train')\n",
    "plt.plot(fpr_2,tpr_2, label='KNN')\n",
    "# plt.plot(fpr_22, tpr_22, label='Train')\n",
    "plt.plot(fpr_3,tpr_3, label='Naive Bayes')\n",
    "# plt.plot(fpr_32, tpr_32, label='Train')\n",
    "plt.plot(t, t, '--', alpha=0.3, color='grey')\n",
    "plt.legend()\n",
    "plt.xlabel('FPR')\n",
    "plt.ylabel('TPR')\n",
    "plt.savefig('Plots/together_plots.pdf')\n",
    "plt.show()\n"
   ]
  },
  {
   "cell_type": "code",
   "execution_count": 30,
   "metadata": {},
   "outputs": [
    {
     "data": {
      "image/png": "[encoded data removed]",
      "text/plain": [
       "<Figure size 960x400 with 3 Axes>"
      ]
     },
     "metadata": {
      "needs_background": "light"
     },
     "output_type": "display_data"
    }
   ],
   "source": [
    "t = np.linspace(0,1,50)\n",
    "plt.subplot(131)\n",
    "plt.plot(fpr_1,tpr_1, label='Test')\n",
    "plt.plot(fpr_12, tpr_12, label='Train')\n",
    "plt.plot(t, t, '--', alpha=0.3, color='grey')\n",
    "plt.title('LDA')\n",
    "plt.xlabel('FPR')\n",
    "plt.ylabel('TPR')\n",
    "plt.legend()\n",
    "plt.subplot(132)\n",
    "plt.plot(fpr_2,tpr_2, label='Test')\n",
    "plt.plot(fpr_22, tpr_22, label='Train')\n",
    "plt.plot(t, t, '--', alpha=0.3, color='grey')\n",
    "plt.title('KNN')\n",
    "plt.xlabel('FPR')\n",
    "plt.legend()\n",
    "plt.subplot(133)\n",
    "plt.plot(fpr_3,tpr_3, label='Test')\n",
    "plt.plot(fpr_32, tpr_32, label='Train')\n",
    "plt.plot(t, t, '--', alpha=0.3, color='grey')\n",
    "plt.title('Naive Bayes')\n",
    "plt.xlabel('FPR')\n",
    "plt.legend()\n",
    "plt.savefig('Plots/allroc.pdf')\n",
    "plt.show()"
   ]
  },
  {
   "cell_type": "code",
   "execution_count": null,
   "metadata": {},
   "outputs": [],
   "source": []
  }
 ],
 "metadata": {
  "interpreter": {
   "hash": "44e85bc0401f69617234f4ed663dcebff936e8ca4069e4544948d7271829d5d2"
  },
  "kernelspec": {
   "display_name": "Python 3.7.11 ('base')",
   "language": "python",
   "name": "python3"
  },
  "language_info": {
   "codemirror_mode": {
    "name": "ipython",
    "version": 3
   },
   "file_extension": ".py",
   "mimetype": "text/x-python",
   "name": "python",
   "nbconvert_exporter": "python",
   "pygments_lexer": "ipython3",
   "version": "3.7.11"
  },
  "orig_nbformat": 4
 },
 "nbformat": 4,
 "nbformat_minor": 2
}
